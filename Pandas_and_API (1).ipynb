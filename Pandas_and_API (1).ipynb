{
 "cells": [
  {
   "cell_type": "markdown",
   "metadata": {},
   "source": [
    "## Tying APIs and Pandas Together\n",
    "![alt text](https://upload.wikimedia.org/wikipedia/commons/thumb/e/ed/Pandas_logo.svg/1200px-Pandas_logo.svg.png)"
   ]
  },
  {
   "cell_type": "code",
   "execution_count": null,
   "metadata": {
    "colab": {},
    "colab_type": "code",
    "id": "bjwUo1fbhHW6"
   },
   "outputs": [],
   "source": [
    "import pandas as pd\n",
    "import matplotlib.pyplot as plt"
   ]
  },
  {
   "cell_type": "code",
   "execution_count": null,
   "metadata": {
    "colab": {},
    "colab_type": "code",
    "id": "Jo8tG05uhP3R"
   },
   "outputs": [],
   "source": [
    "df = pd.read_json('https://data.kcmo.org/resource/32xf-gvw8.json')"
   ]
  },
  {
   "cell_type": "code",
   "execution_count": null,
   "metadata": {
    "colab": {
     "base_uri": "https://localhost:8080/",
     "height": 424
    },
    "colab_type": "code",
    "id": "BY5i5v_JhQ2Z",
    "outputId": "460c6107-a30f-4430-ea0d-b9b24f201564"
   },
   "outputs": [],
   "source": [
    "df"
   ]
  },
  {
   "cell_type": "code",
   "execution_count": null,
   "metadata": {
    "colab": {
     "base_uri": "https://localhost:8080/",
     "height": 208
    },
    "colab_type": "code",
    "id": "yGUVT0xFhVgf",
    "outputId": "8307ff7a-d53a-4e37-d1b7-ff23b9fbb6c6"
   },
   "outputs": [],
   "source": [
    "df.dtypes"
   ]
  },
  {
   "cell_type": "code",
   "execution_count": null,
   "metadata": {
    "colab": {
     "base_uri": "https://localhost:8080/",
     "height": 34
    },
    "colab_type": "code",
    "id": "GbMeRkt5hXy5",
    "outputId": "d31b402c-b76c-4b6b-b69e-6fc29352b075"
   },
   "outputs": [],
   "source": [
    "df.shape"
   ]
  },
  {
   "cell_type": "code",
   "execution_count": null,
   "metadata": {
    "colab": {
     "base_uri": "https://localhost:8080/",
     "height": 34
    },
    "colab_type": "code",
    "id": "bb5j4ts0hc8W",
    "outputId": "a5750401-8fa3-493e-e952-afaef7763e76"
   },
   "outputs": [],
   "source": [
    "df.make[1]"
   ]
  },
  {
   "cell_type": "code",
   "execution_count": null,
   "metadata": {},
   "outputs": [],
   "source": [
    "size = len(df)"
   ]
  },
  {
   "cell_type": "code",
   "execution_count": null,
   "metadata": {
    "colab": {
     "base_uri": "https://localhost:8080/",
     "height": 1000
    },
    "colab_type": "code",
    "id": "iNwUQORqiYy-",
    "outputId": "10a477aa-eaf4-442a-df4c-180b60533180"
   },
   "outputs": [],
   "source": [
    "for i in range(0,len(df)):\n",
    "  print(df.make[i])"
   ]
  },
  {
   "cell_type": "code",
   "execution_count": null,
   "metadata": {
    "colab": {
     "base_uri": "https://localhost:8080/",
     "height": 486
    },
    "colab_type": "code",
    "id": "f2UZ8c5ti1cZ",
    "outputId": "b76acabd-e4cd-46f4-ce25-69682da281b8"
   },
   "outputs": [],
   "source": [
    "for c in range(0,len(df)):\n",
    "  rson = df.reason[c]\n",
    "  if rson == \"STOLEN\":\n",
    "    print(df.model[c], df.year[c])\n",
    "  "
   ]
  },
  {
   "cell_type": "code",
   "execution_count": null,
   "metadata": {
    "colab": {
     "base_uri": "https://localhost:8080/",
     "height": 54
    },
    "colab_type": "code",
    "id": "txBPGW3ojkAb",
    "outputId": "f8678138-7129-4a47-d841-04ed79ab1c5c"
   },
   "outputs": [],
   "source": [
    "stolen_cars = []\n",
    "\n",
    "for c in range(0,len(df)):\n",
    "  rson = df.reason[c]\n",
    "  if rson == \"STOLEN\":\n",
    "    stolen_cars.append(df.model[c])\n",
    "print(stolen_cars)"
   ]
  },
  {
   "cell_type": "code",
   "execution_count": null,
   "metadata": {
    "colab": {
     "base_uri": "https://localhost:8080/",
     "height": 486
    },
    "colab_type": "code",
    "id": "pkyg5pT0lNig",
    "outputId": "3ed74c7b-df8c-4f87-8a3b-e231f89e8f4a"
   },
   "outputs": [],
   "source": [
    "for i in range(0,len(stolen_cars)):\n",
    "  print(stolen_cars[i])"
   ]
  },
  {
   "cell_type": "code",
   "execution_count": null,
   "metadata": {
    "colab": {
     "base_uri": "https://localhost:8080/",
     "height": 638
    },
    "colab_type": "code",
    "id": "mGP598v-mBck",
    "outputId": "aabc54d2-aa4f-4572-dfe6-095dd3a0a42b"
   },
   "outputs": [],
   "source": [
    "df.groupby('year')['model'].nunique().plot(kind='bar',figsize=(10,10))"
   ]
  },
  {
   "cell_type": "code",
   "execution_count": null,
   "metadata": {
    "colab": {
     "base_uri": "https://localhost:8080/",
     "height": 606
    },
    "colab_type": "code",
    "id": "DFy_EO6anZlk",
    "outputId": "c9b4f5d6-f442-47d1-ef6a-6156eb7081a7"
   },
   "outputs": [],
   "source": [
    "df.groupby('make')['model'].nunique().plot(kind='barh',figsize=(10,10))\n",
    "plt.ylabel('Make')\n",
    "plt.xlabel('Count')\n",
    "plt.show()"
   ]
  },
  {
   "cell_type": "code",
   "execution_count": null,
   "metadata": {},
   "outputs": [],
   "source": []
  }
 ],
 "metadata": {
  "colab": {
   "name": "Pandas for JSON.ipynb",
   "provenance": []
  },
  "kernelspec": {
   "display_name": "Python 3",
   "language": "python",
   "name": "python3"
  },
  "language_info": {
   "codemirror_mode": {
    "name": "ipython",
    "version": 3
   },
   "file_extension": ".py",
   "mimetype": "text/x-python",
   "name": "python",
   "nbconvert_exporter": "python",
   "pygments_lexer": "ipython3",
   "version": "3.7.10"
  }
 },
 "nbformat": 4,
 "nbformat_minor": 1
}
